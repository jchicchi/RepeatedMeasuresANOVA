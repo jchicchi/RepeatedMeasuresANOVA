{
  "metadata": {
    "kernelspec": {
      "name": "python",
      "display_name": "Python (Pyodide)",
      "language": "python"
    },
    "language_info": {
      "codemirror_mode": {
        "name": "python",
        "version": 3
      },
      "file_extension": ".py",
      "mimetype": "text/x-python",
      "name": "python",
      "nbconvert_exporter": "python",
      "pygments_lexer": "ipython3",
      "version": "3.8"
    }
  },
  "nbformat_minor": 5,
  "nbformat": 4,
  "cells": [
    {
      "cell_type": "markdown",
      "source": "One-way repeated measures ANOVA using a wide-format dataset\n\n",
      "metadata": {},
      "id": "aba26f84"
    },
    {
      "cell_type": "code",
      "source": "import pingouin as pg\ndata = pg.read_dataset('rm_anova_wide')\npg.rm_anova(data)",
      "metadata": {
        "tags": [],
        "collapsed": true,
        "jupyter": {
          "outputs_hidden": true
        }
      },
      "execution_count": 1,
      "outputs": [
        {
          "name": "stderr",
          "output_type": "stream",
          "text": "/Users/kurtschuepfer/Library/Python/3.8/lib/python/site-packages/pingouin/parametric.py:551: FutureWarning: Not prepending group keys to the result index of transform-like apply. In the future, the group keys will be included in the index, regardless of whether the applied function returns a like-indexed object.\n\nTo preserve the previous behavior, use\n\n\n\n\t>>> .groupby(..., group_keys=False)\n\n\n\nTo adopt the future behavior and silence this warning, use \n\n\n\n\t>>> .groupby(..., group_keys=True)\n\n  ss_resall = grp_with.apply(lambda x: (x - x.mean()) ** 2).sum()\n"
        },
        {
          "execution_count": 1,
          "output_type": "execute_result",
          "data": {
            "text/html": [
              "<div>\n",
              "<style scoped>\n",
              "    .dataframe tbody tr th:only-of-type {\n",
              "        vertical-align: middle;\n",
              "    }\n",
              "\n",
              "    .dataframe tbody tr th {\n",
              "        vertical-align: top;\n",
              "    }\n",
              "\n",
              "    .dataframe thead th {\n",
              "        text-align: right;\n",
              "    }\n",
              "</style>\n",
              "<table border=\"1\" class=\"dataframe\">\n",
              "  <thead>\n",
              "    <tr style=\"text-align: right;\">\n",
              "      <th></th>\n",
              "      <th>Source</th>\n",
              "      <th>ddof1</th>\n",
              "      <th>ddof2</th>\n",
              "      <th>F</th>\n",
              "      <th>p-unc</th>\n",
              "      <th>ng2</th>\n",
              "      <th>eps</th>\n",
              "    </tr>\n",
              "  </thead>\n",
              "  <tbody>\n",
              "    <tr>\n",
              "      <th>0</th>\n",
              "      <td>Within</td>\n",
              "      <td>3</td>\n",
              "      <td>24</td>\n",
              "      <td>5.200652</td>\n",
              "      <td>0.006557</td>\n",
              "      <td>0.346392</td>\n",
              "      <td>0.694329</td>\n",
              "    </tr>\n",
              "  </tbody>\n",
              "</table>\n",
              "</div>"
            ],
            "text/plain": [
              "   Source  ddof1  ddof2         F     p-unc       ng2       eps\n",
              "0  Within      3     24  5.200652  0.006557  0.346392  0.694329"
            ]
          },
          "metadata": {}
        }
      ],
      "id": "960203dc"
    },
    {
      "cell_type": "markdown",
      "source": "One-way repeated-measures ANOVA using a long-format dataset.\n\nWe’re also specifying two additional options here: detailed=True means that we’ll get a more detailed ANOVA table, and effsize='np2' means that we want to get the partial eta-squared effect size instead of the default (generalized) eta-squared.",
      "metadata": {},
      "id": "dff7ae20"
    },
    {
      "cell_type": "code",
      "source": "df = pg.read_dataset('rm_anova')\naov = pg.rm_anova(dv='DesireToKill', within='Disgustingness',\n                  subject='Subject', data=df, detailed=True, effsize=\"np2\")\naov.round(3)",
      "metadata": {
        "collapsed": true,
        "jupyter": {
          "outputs_hidden": true
        },
        "tags": []
      },
      "execution_count": 2,
      "outputs": [
        {
          "name": "stderr",
          "output_type": "stream",
          "text": "/Users/kurtschuepfer/Library/Python/3.8/lib/python/site-packages/pingouin/parametric.py:551: FutureWarning: Not prepending group keys to the result index of transform-like apply. In the future, the group keys will be included in the index, regardless of whether the applied function returns a like-indexed object.\n\nTo preserve the previous behavior, use\n\n\n\n\t>>> .groupby(..., group_keys=False)\n\n\n\nTo adopt the future behavior and silence this warning, use \n\n\n\n\t>>> .groupby(..., group_keys=True)\n\n  ss_resall = grp_with.apply(lambda x: (x - x.mean()) ** 2).sum()\n"
        },
        {
          "execution_count": 2,
          "output_type": "execute_result",
          "data": {
            "text/html": [
              "<div>\n",
              "<style scoped>\n",
              "    .dataframe tbody tr th:only-of-type {\n",
              "        vertical-align: middle;\n",
              "    }\n",
              "\n",
              "    .dataframe tbody tr th {\n",
              "        vertical-align: top;\n",
              "    }\n",
              "\n",
              "    .dataframe thead th {\n",
              "        text-align: right;\n",
              "    }\n",
              "</style>\n",
              "<table border=\"1\" class=\"dataframe\">\n",
              "  <thead>\n",
              "    <tr style=\"text-align: right;\">\n",
              "      <th></th>\n",
              "      <th>Source</th>\n",
              "      <th>SS</th>\n",
              "      <th>DF</th>\n",
              "      <th>MS</th>\n",
              "      <th>F</th>\n",
              "      <th>p-unc</th>\n",
              "      <th>np2</th>\n",
              "      <th>eps</th>\n",
              "    </tr>\n",
              "  </thead>\n",
              "  <tbody>\n",
              "    <tr>\n",
              "      <th>0</th>\n",
              "      <td>Disgustingness</td>\n",
              "      <td>27.485</td>\n",
              "      <td>1</td>\n",
              "      <td>27.485</td>\n",
              "      <td>12.044</td>\n",
              "      <td>0.001</td>\n",
              "      <td>0.116</td>\n",
              "      <td>1.0</td>\n",
              "    </tr>\n",
              "    <tr>\n",
              "      <th>1</th>\n",
              "      <td>Error</td>\n",
              "      <td>209.952</td>\n",
              "      <td>92</td>\n",
              "      <td>2.282</td>\n",
              "      <td>NaN</td>\n",
              "      <td>NaN</td>\n",
              "      <td>NaN</td>\n",
              "      <td>NaN</td>\n",
              "    </tr>\n",
              "  </tbody>\n",
              "</table>\n",
              "</div>"
            ],
            "text/plain": [
              "           Source       SS  DF      MS       F  p-unc    np2  eps\n",
              "0  Disgustingness   27.485   1  27.485  12.044  0.001  0.116  1.0\n",
              "1           Error  209.952  92   2.282     NaN    NaN    NaN  NaN"
            ]
          },
          "metadata": {}
        }
      ],
      "id": "2cdf0a68"
    },
    {
      "cell_type": "markdown",
      "source": "Two-way repeated-measures ANOVA\n\n",
      "metadata": {},
      "id": "0c593335"
    },
    {
      "cell_type": "code",
      "source": "aov = pg.rm_anova(dv='DesireToKill', within=['Disgustingness', 'Frighteningness'],\n                  subject='Subject', data=df)",
      "metadata": {
        "collapsed": true,
        "jupyter": {
          "outputs_hidden": true
        },
        "tags": []
      },
      "execution_count": 3,
      "outputs": [
        {
          "name": "stderr",
          "output_type": "stream",
          "text": "/Users/kurtschuepfer/Library/Python/3.8/lib/python/site-packages/pingouin/distribution.py:481: FutureWarning: Not prepending group keys to the result index of transform-like apply. In the future, the group keys will be included in the index, regardless of whether the applied function returns a like-indexed object.\n\nTo preserve the previous behavior, use\n\n\n\n\t>>> .groupby(..., group_keys=False)\n\n\n\nTo adopt the future behavior and silence this warning, use \n\n\n\n\t>>> .groupby(..., group_keys=True)\n\n  data = data.groupby(level=1, axis=1, observed=True).diff(axis=1).dropna(axis=1)\n"
        }
      ],
      "id": "78dcadfa"
    },
    {
      "cell_type": "code",
      "source": "df.rm_anova(dv='DesireToKill', within='Disgustingness', subject='Subject',  detailed=False)",
      "metadata": {
        "collapsed": true,
        "jupyter": {
          "outputs_hidden": true
        },
        "tags": []
      },
      "execution_count": 4,
      "outputs": [
        {
          "name": "stderr",
          "output_type": "stream",
          "text": "/Users/kurtschuepfer/Library/Python/3.8/lib/python/site-packages/pingouin/parametric.py:551: FutureWarning: Not prepending group keys to the result index of transform-like apply. In the future, the group keys will be included in the index, regardless of whether the applied function returns a like-indexed object.\n\nTo preserve the previous behavior, use\n\n\n\n\t>>> .groupby(..., group_keys=False)\n\n\n\nTo adopt the future behavior and silence this warning, use \n\n\n\n\t>>> .groupby(..., group_keys=True)\n\n  ss_resall = grp_with.apply(lambda x: (x - x.mean()) ** 2).sum()\n"
        },
        {
          "execution_count": 4,
          "output_type": "execute_result",
          "data": {
            "text/html": [
              "<div>\n",
              "<style scoped>\n",
              "    .dataframe tbody tr th:only-of-type {\n",
              "        vertical-align: middle;\n",
              "    }\n",
              "\n",
              "    .dataframe tbody tr th {\n",
              "        vertical-align: top;\n",
              "    }\n",
              "\n",
              "    .dataframe thead th {\n",
              "        text-align: right;\n",
              "    }\n",
              "</style>\n",
              "<table border=\"1\" class=\"dataframe\">\n",
              "  <thead>\n",
              "    <tr style=\"text-align: right;\">\n",
              "      <th></th>\n",
              "      <th>Source</th>\n",
              "      <th>ddof1</th>\n",
              "      <th>ddof2</th>\n",
              "      <th>F</th>\n",
              "      <th>p-unc</th>\n",
              "      <th>ng2</th>\n",
              "      <th>eps</th>\n",
              "    </tr>\n",
              "  </thead>\n",
              "  <tbody>\n",
              "    <tr>\n",
              "      <th>0</th>\n",
              "      <td>Disgustingness</td>\n",
              "      <td>1</td>\n",
              "      <td>92</td>\n",
              "      <td>12.043878</td>\n",
              "      <td>0.000793</td>\n",
              "      <td>0.025784</td>\n",
              "      <td>1.0</td>\n",
              "    </tr>\n",
              "  </tbody>\n",
              "</table>\n",
              "</div>"
            ],
            "text/plain": [
              "           Source  ddof1  ddof2          F     p-unc       ng2  eps\n",
              "0  Disgustingness      1     92  12.043878  0.000793  0.025784  1.0"
            ]
          },
          "metadata": {}
        }
      ],
      "id": "2647cf15"
    }
  ]
}