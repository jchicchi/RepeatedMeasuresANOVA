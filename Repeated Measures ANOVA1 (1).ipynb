{
  "metadata": {
    "kernelspec": {
      "name": "python",
      "display_name": "Python (Pyodide)",
      "language": "python"
    },
    "language_info": {
      "codemirror_mode": {
        "name": "python",
        "version": 3
      },
      "file_extension": ".py",
      "mimetype": "text/x-python",
      "name": "python",
      "nbconvert_exporter": "python",
      "pygments_lexer": "ipython3",
      "version": "3.8"
    }
  },
  "nbformat_minor": 5,
  "nbformat": 4,
  "cells": [
    {
      "cell_type": "markdown",
      "source": "One-way repeated measures ANOVA using a wide-format dataset\n\n",
      "metadata": {},
      "id": "aba26f84"
    },
    {
      "cell_type": "code",
      "source": "import pingouin as pg\ndata = pg.read_dataset('rm_anova_wide')\npg.rm_anova(data)",
      "metadata": {
        "tags": [],
        "trusted": true
      },
      "execution_count": null,
      "outputs": [],
      "id": "960203dc"
    },
    {
      "cell_type": "markdown",
      "source": "One-way repeated-measures ANOVA using a long-format dataset.\n\nWe’re also specifying two additional options here: detailed=True means that we’ll get a more detailed ANOVA table, and effsize='np2' means that we want to get the partial eta-squared effect size instead of the default (generalized) eta-squared.",
      "metadata": {
        "jupyter": {
          "source_hidden": true
        },
        "tags": []
      },
      "id": "dff7ae20"
    },
    {
      "cell_type": "code",
      "source": "df = pg.read_dataset('rm_anova')\naov = pg.rm_anova(dv='DesireToKill', within='Disgustingness',\n                  subject='Subject', data=df, detailed=True, effsize=\"np2\")\naov.round(3)",
      "metadata": {
        "tags": []
      },
      "execution_count": null,
      "outputs": [],
      "id": "2cdf0a68"
    },
    {
      "cell_type": "markdown",
      "source": "Two-way repeated-measures ANOVA\n\n",
      "metadata": {},
      "id": "0c593335"
    },
    {
      "cell_type": "code",
      "source": "aov = pg.rm_anova(dv='DesireToKill', within=['Disgustingness', 'Frighteningness'],\n                  subject='Subject', data=df)",
      "metadata": {
        "tags": []
      },
      "execution_count": null,
      "outputs": [],
      "id": "78dcadfa"
    },
    {
      "cell_type": "code",
      "source": "df.rm_anova(dv='DesireToKill', within='Disgustingness', subject='Subject',  detailed=False)",
      "metadata": {
        "tags": []
      },
      "execution_count": null,
      "outputs": [],
      "id": "2647cf15"
    }
  ]
}